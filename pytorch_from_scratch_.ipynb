{
  "nbformat": 4,
  "nbformat_minor": 0,
  "metadata": {
    "colab": {
      "name": "pytorch from scratch .ipynb",
      "provenance": [],
      "collapsed_sections": [],
      "authorship_tag": "ABX9TyNpBNiwXlJcj8i6Usgy2D7p",
      "include_colab_link": true
    },
    "kernelspec": {
      "name": "python3",
      "display_name": "Python 3"
    },
    "language_info": {
      "name": "python"
    }
  },
  "cells": [
    {
      "cell_type": "markdown",
      "metadata": {
        "id": "view-in-github",
        "colab_type": "text"
      },
      "source": [
        "<a href=\"https://colab.research.google.com/github/nermienkh/Pytorch_From_Scratch/blob/main/pytorch_from_scratch_.ipynb\" target=\"_parent\"><img src=\"https://colab.research.google.com/assets/colab-badge.svg\" alt=\"Open In Colab\"/></a>"
      ]
    },
    {
      "cell_type": "markdown",
      "source": [
        "[Pytorch-Wikipedia](https://https://en.wikipedia.org/wiki/PyTorch)\n",
        "PyTorch is an open source machine learning framework based on the Torch library,used for applications such as computer vision and natural language processing, primarily developed by Meta AI\n",
        "\n",
        "PyTorch provides two high-level features:\n",
        "\n",
        "\n",
        "1.   Tensor computing (like NumPy) with strong acceleration via graphics processing units (GPU) \n",
        "\n",
        "2.   Deep neural networks built on a tape-based [automatic differentiation](https://www.youtube.com/watch?v=wG_nF1awSSY)  system\n",
        "\n",
        "\n",
        "\n",
        "\n"
      ],
      "metadata": {
        "id": "g8-ztafgYz3F"
      }
    },
    {
      "cell_type": "markdown",
      "source": [
        "PyTorch defines a class called **Tensor** (torch.Tensor) to store and operate on homogeneous multidimensional rectangular arrays of numbers. PyTorch Tensors are similar to NumPy Arrays, **but can also be operated on a CUDA-capable NVIDIA GPU**"
      ],
      "metadata": {
        "id": "nHqPo7jrXo7-"
      }
    },
    {
      "cell_type": "markdown",
      "source": [
        "**Main Modules**\n",
        "\n",
        "\n",
        "\n",
        "1.  *Autograd module:*\n",
        "PyTorch uses a method called automatic differentiation. A recorder records what operations have performed, and then it replays it backward to compute the gradients. This method is especially powerful when building neural networks to save time on one epoch by calculating differentiation of the parameters at the forward pass.\n",
        "2.  *Optim module:*\n",
        "torch.optim is a module that implements various optimization algorithms used for building neural networks. Most of the commonly used methods are already supported, so there is no need to build them from scratch.\n",
        "3. *nn module:*\n",
        "PyTorch autograd makes it easy to define computational graphs and take gradients, but raw autograd can be a bit too low-level for defining complex neural networks. This is where the nn module can help. The nn module provides layers and tools to easily create a neural networks by just defining the layers of the network.\n"
      ],
      "metadata": {
        "id": "zLGpdHU-eTmo"
      }
    },
    {
      "cell_type": "markdown",
      "source": [
        "**low level programming**"
      ],
      "metadata": {
        "id": "-8LuwqRzfkgc"
      }
    },
    {
      "cell_type": "code",
      "execution_count": 1,
      "metadata": {
        "id": "zzlsqMS7Xjzf"
      },
      "outputs": [],
      "source": [
        "#import the torch library \n",
        "import torch\n"
      ]
    },
    {
      "cell_type": "code",
      "source": [
        "#create  Tensor with values\n",
        "new_tensor = torch.Tensor([[1, 2], [5, 6]])\n",
        "new_tensor "
      ],
      "metadata": {
        "colab": {
          "base_uri": "https://localhost:8080/"
        },
        "id": "PEPSp7PefzZD",
        "outputId": "3f56c22f-4953-465b-bc9d-c27f294fe294"
      },
      "execution_count": 3,
      "outputs": [
        {
          "output_type": "execute_result",
          "data": {
            "text/plain": [
              "tensor([[1., 2.],\n",
              "        [5., 6.]])"
            ]
          },
          "metadata": {},
          "execution_count": 3
        }
      ]
    },
    {
      "cell_type": "code",
      "source": [
        "#create tensor with known size, random values\t\n",
        "empty_tensor = torch.Tensor(5, 3)\n",
        "empty_tensor"
      ],
      "metadata": {
        "colab": {
          "base_uri": "https://localhost:8080/"
        },
        "id": "Z7i4RvuBf5_A",
        "outputId": "7d32256d-89a2-4ba2-cd74-32b8608b572d"
      },
      "execution_count": 4,
      "outputs": [
        {
          "output_type": "execute_result",
          "data": {
            "text/plain": [
              "tensor([[7.1591e-35, 0.0000e+00, 1.5975e-43],\n",
              "        [1.3873e-43, 1.4574e-43, 6.4460e-44],\n",
              "        [1.1771e-43, 1.4153e-43, 1.5414e-43],\n",
              "        [1.6115e-43, 1.5554e-43, 1.5975e-43],\n",
              "        [1.7260e+25, 2.2856e+20, 5.0948e-14]])"
            ]
          },
          "metadata": {},
          "execution_count": 4
        }
      ]
    },
    {
      "cell_type": "code",
      "source": [
        "#create tensor with uniform random values between -1 and 1\n",
        "# 5 arrays, 3 rows, 2 columns\t\n",
        "uniform_tensor = torch.Tensor(5, 3,2).uniform_(-1, 1)\n",
        "uniform_tensor"
      ],
      "metadata": {
        "colab": {
          "base_uri": "https://localhost:8080/"
        },
        "id": "m_K4k_pVgLD9",
        "outputId": "12f8997c-ea38-43c9-b92e-3c2e5cae7cec"
      },
      "execution_count": 13,
      "outputs": [
        {
          "output_type": "execute_result",
          "data": {
            "text/plain": [
              "tensor([[[ 0.4078, -0.4047],\n",
              "         [-0.4357,  0.3520],\n",
              "         [-0.5049,  0.3194]],\n",
              "\n",
              "        [[-0.1005, -0.4319],\n",
              "         [ 0.1084,  0.5168],\n",
              "         [-0.3252, -0.5553]],\n",
              "\n",
              "        [[-0.7955,  0.4859],\n",
              "         [ 0.8544,  0.5092],\n",
              "         [-0.3965, -0.0679]],\n",
              "\n",
              "        [[ 0.5830, -0.1366],\n",
              "         [ 0.1959, -0.8244],\n",
              "         [-0.3431,  0.1830]],\n",
              "\n",
              "        [[-0.6088,  0.9731],\n",
              "         [ 0.6043,  0.8911],\n",
              "         [ 0.9469,  0.5910]]])"
            ]
          },
          "metadata": {},
          "execution_count": 13
        }
      ]
    },
    {
      "cell_type": "code",
      "source": [
        "#create tensor with uniform distribution values between 0 and 1\n",
        "rand_tensor = torch.rand(1, 3)\n",
        "rand_tensor"
      ],
      "metadata": {
        "colab": {
          "base_uri": "https://localhost:8080/"
        },
        "id": "GnIQ6JuggcMK",
        "outputId": "d69a7e25-8be7-4d39-f4c8-936955106ca1"
      },
      "execution_count": 16,
      "outputs": [
        {
          "output_type": "execute_result",
          "data": {
            "text/plain": [
              "tensor([[0.2558, 0.9478, 0.1159]])"
            ]
          },
          "metadata": {},
          "execution_count": 16
        }
      ]
    },
    {
      "cell_type": "code",
      "source": [
        "#access elements in tensor \n",
        "#get value of second array second row second column ,0.5168\n",
        "uniform_tensor[1][1][1]"
      ],
      "metadata": {
        "colab": {
          "base_uri": "https://localhost:8080/"
        },
        "id": "H5-2Yqxdhq9m",
        "outputId": "3acc708c-3a40-444f-8a96-b5180aa8625b"
      },
      "execution_count": 17,
      "outputs": [
        {
          "output_type": "execute_result",
          "data": {
            "text/plain": [
              "tensor(0.5168)"
            ]
          },
          "metadata": {},
          "execution_count": 17
        }
      ]
    },
    {
      "cell_type": "code",
      "source": [
        "#get the last array using the slicing \n",
        "#[-0.6088,  0.9731],\n",
        "#[ 0.6043,  0.8911],\n",
        "#[ 0.9469,  0.5910]]\n",
        "uniform_tensor[-1,:,:]"
      ],
      "metadata": {
        "colab": {
          "base_uri": "https://localhost:8080/"
        },
        "id": "HE2YH7npnb11",
        "outputId": "42b230f3-c502-4612-9e0a-e9dccf60d630"
      },
      "execution_count": 18,
      "outputs": [
        {
          "output_type": "execute_result",
          "data": {
            "text/plain": [
              "tensor([[-0.6088,  0.9731],\n",
              "        [ 0.6043,  0.8911],\n",
              "        [ 0.9469,  0.5910]])"
            ]
          },
          "metadata": {},
          "execution_count": 18
        }
      ]
    },
    {
      "cell_type": "code",
      "source": [
        "#get the diminsion and size of a tensor \n",
        "print(uniform_tensor.dim())\n",
        "print(uniform_tensor.size())"
      ],
      "metadata": {
        "colab": {
          "base_uri": "https://localhost:8080/"
        },
        "id": "6gIcJjNYnrdt",
        "outputId": "b4065e41-bf44-4b23-df14-8b98c0d07a7a"
      },
      "execution_count": 21,
      "outputs": [
        {
          "output_type": "stream",
          "name": "stdout",
          "text": [
            "3\n",
            "torch.Size([5, 3, 2])\n"
          ]
        }
      ]
    },
    {
      "cell_type": "code",
      "source": [
        "#reshape tensor, note the view function is immutable, you need to save the result in new object to keep it  \n",
        "uniform_tensor.view(5,1,6)"
      ],
      "metadata": {
        "colab": {
          "base_uri": "https://localhost:8080/"
        },
        "id": "ylnXkNYTn3Hl",
        "outputId": "536bcca6-87cb-4a30-825f-9eb7cfe43526"
      },
      "execution_count": 25,
      "outputs": [
        {
          "output_type": "execute_result",
          "data": {
            "text/plain": [
              "tensor([[[ 0.4078, -0.4047, -0.4357,  0.3520, -0.5049,  0.3194]],\n",
              "\n",
              "        [[-0.1005, -0.4319,  0.1084,  0.5168, -0.3252, -0.5553]],\n",
              "\n",
              "        [[-0.7955,  0.4859,  0.8544,  0.5092, -0.3965, -0.0679]],\n",
              "\n",
              "        [[ 0.5830, -0.1366,  0.1959, -0.8244, -0.3431,  0.1830]],\n",
              "\n",
              "        [[-0.6088,  0.9731,  0.6043,  0.8911,  0.9469,  0.5910]]])"
            ]
          },
          "metadata": {},
          "execution_count": 25
        }
      ]
    },
    {
      "cell_type": "code",
      "source": [
        "#summation of 2 tensors\n",
        "x = torch.empty(5, 3)\n",
        "y = torch.empty(5, 3)\n",
        "x+y"
      ],
      "metadata": {
        "colab": {
          "base_uri": "https://localhost:8080/"
        },
        "id": "xhJrlPNooJ_v",
        "outputId": "89bc46e3-9fb8-4af3-d8a1-68dce9a251b6"
      },
      "execution_count": 26,
      "outputs": [
        {
          "output_type": "execute_result",
          "data": {
            "text/plain": [
              "tensor([[4.6002e-34, 0.0000e+00, 2.3694e-38],\n",
              "        [2.3694e-38,        nan, 2.3694e-38],\n",
              "        [1.1578e+27, 1.1362e+30, 7.1547e+22],\n",
              "        [4.5828e+30, 1.2121e+04, 7.1846e+22],\n",
              "        [9.2198e-39, 7.0374e+22, 0.0000e+00]])"
            ]
          },
          "metadata": {},
          "execution_count": 26
        }
      ]
    },
    {
      "cell_type": "code",
      "source": [
        "#transpose tensor\n",
        "print(y)\n",
        "print(y.t())\n",
        "print(y.permute(-1,0))"
      ],
      "metadata": {
        "colab": {
          "base_uri": "https://localhost:8080/"
        },
        "id": "0qPZ1eIkqLub",
        "outputId": "09e94429-4db5-48f5-d3c8-ec9a5a359b68"
      },
      "execution_count": 29,
      "outputs": [
        {
          "output_type": "stream",
          "name": "stdout",
          "text": [
            "tensor([[2.3001e-34, 0.0000e+00, 2.3694e-38],\n",
            "        [2.3694e-38, 2.3694e-38, 2.3694e-38],\n",
            "        [2.3694e-38, 3.6013e-43, 0.0000e+00],\n",
            "        [0.0000e+00, 0.0000e+00, 0.0000e+00],\n",
            "        [0.0000e+00, 0.0000e+00, 0.0000e+00]])\n",
            "tensor([[2.3001e-34, 2.3694e-38, 2.3694e-38, 0.0000e+00, 0.0000e+00],\n",
            "        [0.0000e+00, 2.3694e-38, 3.6013e-43, 0.0000e+00, 0.0000e+00],\n",
            "        [2.3694e-38, 2.3694e-38, 0.0000e+00, 0.0000e+00, 0.0000e+00]])\n",
            "tensor([[2.3001e-34, 2.3694e-38, 2.3694e-38, 0.0000e+00, 0.0000e+00],\n",
            "        [0.0000e+00, 2.3694e-38, 3.6013e-43, 0.0000e+00, 0.0000e+00],\n",
            "        [2.3694e-38, 2.3694e-38, 0.0000e+00, 0.0000e+00, 0.0000e+00]])\n"
          ]
        }
      ]
    },
    {
      "cell_type": "code",
      "source": [
        "#matrix multiplication, sizes should be (m*n) * (n*m)\n",
        "x=torch.Tensor(2,5)\n",
        "y=torch.Tensor(5,2)\n",
        "result=x.mm(y)\n",
        "print(result.shape)"
      ],
      "metadata": {
        "colab": {
          "base_uri": "https://localhost:8080/"
        },
        "id": "C7NJOzsXqS6Y",
        "outputId": "25c5e17c-0738-4419-df3e-a03ada645f1f"
      },
      "execution_count": 33,
      "outputs": [
        {
          "output_type": "stream",
          "name": "stdout",
          "text": [
            "torch.Size([2, 2])\n"
          ]
        }
      ]
    },
    {
      "cell_type": "code",
      "source": [
        "#move to GPU\t\n",
        "x = torch.randn(4, 4)\n",
        "y = torch.randn(4, 4)\n",
        "#check if GPU is Available\n",
        "if torch.cuda.is_available():\n",
        "    device = torch.device(\"cuda\")\n",
        "    x = x.to(device)\n",
        "    y = y.to(device)  \n",
        "    z = x + y\n",
        "    print(z)"
      ],
      "metadata": {
        "id": "98s4T-lKq7ZF"
      },
      "execution_count": 34,
      "outputs": []
    },
    {
      "cell_type": "markdown",
      "source": [
        "**High level programming**"
      ],
      "metadata": {
        "id": "hIKpy2eurtZo"
      }
    },
    {
      "cell_type": "code",
      "source": [
        "#build Neural Network"
      ],
      "metadata": {
        "id": "4atb81-CrcVC"
      },
      "execution_count": 36,
      "outputs": []
    },
    {
      "cell_type": "code",
      "source": [
        ""
      ],
      "metadata": {
        "id": "04QisMJCrfbK"
      },
      "execution_count": null,
      "outputs": []
    }
  ]
}